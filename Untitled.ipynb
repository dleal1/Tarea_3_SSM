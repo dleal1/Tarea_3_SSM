{
 "cells": [
  {
   "cell_type": "markdown",
   "id": "17e0d185-a979-4a3f-b767-aae820d9aa64",
   "metadata": {},
   "source": [
    "## Librerias"
   ]
  },
  {
   "cell_type": "code",
   "execution_count": null,
   "id": "e5b46b20-bc70-43f0-9c55-6dbe04bdf0b5",
   "metadata": {},
   "outputs": [],
   "source": [
    "from scipy.io import wavfile\n",
    "import IPython\n",
    "import os\n",
    "import numpy as np\n",
    "import matplotlib.pyplot as plt"
   ]
  },
  {
   "cell_type": "markdown",
   "id": "adc5f3b8-6b24-4ce7-a796-c07988978333",
   "metadata": {},
   "source": [
    "## Varibales globales"
   ]
  },
  {
   "cell_type": "code",
   "execution_count": null,
   "id": "61f168e0-5002-402d-a12f-80b68cc604d8",
   "metadata": {},
   "outputs": [],
   "source": [
    "cwd = os.getcwd()\n",
    "audioInput = os.path.join(cwd, os.path.join('audio', 'examples')) # Ruta para los archivos de entrada\n",
    "audioOutput = os.path.join(cwd, os.path.join('audio', 'output')) # Ruta para los archivos de salida\n",
    "\n",
    "print(f'Ruta de entrada: {audioInput}')\n",
    "print(f'Ruta de salida: {audioOutput}')"
   ]
  },
  {
   "cell_type": "markdown",
   "id": "27123a51-1f78-492b-97d7-84ee8349e15c",
   "metadata": {},
   "source": [
    "## Carga de audio estéreo"
   ]
  },
  {
   "cell_type": "code",
   "execution_count": null,
   "id": "2ebc9b81-febb-411a-b681-c8471c13da3d",
   "metadata": {},
   "outputs": [],
   "source": [
    "audioName = os.path.join(audioInput, 'interstellar.wav') # Audio elegido"
   ]
  },
  {
   "cell_type": "markdown",
   "id": "1abe950f-7dd2-4290-a63d-e03703c3d829",
   "metadata": {},
   "source": [
    "### Mostramos sus características"
   ]
  },
  {
   "cell_type": "code",
   "execution_count": null,
   "id": "7f91521d-41b1-4420-a67f-527d157e656d",
   "metadata": {},
   "outputs": [],
   "source": [
    "sample_rate, audio_estereo = wavfile.read(audioName)\n",
    "\n",
    "print(f'Datos de audio (estéreo)')\n",
    "print(f'Frecuecia de muestreo: {sample_rate/1000} kHz')\n",
    "print(f'Tamaño: {audio_estereo.shape}')\n",
    "print(f'Canal 1: {audio_estereo[:5, 0]}')\n",
    "print(f'Canal 2: {audio_estereo[:5, 1]}')"
   ]
  },
  {
   "cell_type": "markdown",
   "id": "3550065d-bbb5-45f6-9774-063dc8a7c5a8",
   "metadata": {},
   "source": [
    "### Widget para reproducir el audio"
   ]
  },
  {
   "cell_type": "code",
   "execution_count": null,
   "id": "f69f0c73-cbae-499f-9fab-a47d9d4e454d",
   "metadata": {},
   "outputs": [],
   "source": [
    "IPython.display.Audio(audio_estereo.T, rate=sample_rate)"
   ]
  },
  {
   "cell_type": "markdown",
   "id": "e3d3c456-ad00-466e-8786-2193b4aa386c",
   "metadata": {},
   "source": [
    "## Conversión a mono"
   ]
  },
  {
   "cell_type": "code",
   "execution_count": null,
   "id": "4a3a3afa-dd2f-4b9c-9c5a-f884749a2464",
   "metadata": {},
   "outputs": [],
   "source": [
    "# Convertimos a mono mediante la media por canal (simplificacion).\n",
    "audio_mono = audio_estereo.mean(axis=1)  # Column-wise.\n",
    "print('Nuevos datos de audio (mono):')\n",
    "print(f'- Nuevo tamaño: {audio_mono.shape}')\n",
    "print(f'- Canal único:  {audio_mono[:5]}')"
   ]
  },
  {
   "cell_type": "markdown",
   "id": "a3aa2651-6d74-4660-88aa-d799a6b09e74",
   "metadata": {},
   "source": [
    "### Widget para reproducir el audio"
   ]
  },
  {
   "cell_type": "code",
   "execution_count": null,
   "id": "d33dc661-b35c-4021-8af9-ec60a611307c",
   "metadata": {},
   "outputs": [],
   "source": [
    "IPython.display.Audio(audio_mono.T, rate=sample_rate)"
   ]
  },
  {
   "cell_type": "markdown",
   "id": "e3faff46-1094-4f38-8c4a-8cace6479ac6",
   "metadata": {},
   "source": [
    "## Gráficas en el dominio del tiempo"
   ]
  },
  {
   "cell_type": "code",
   "execution_count": null,
   "id": "0514302c-0cc1-49d5-9297-8e3ae1106396",
   "metadata": {},
   "outputs": [],
   "source": [
    "amplitud_mono = len(audio_mono)\n",
    "amplitud_estereo = len(audio_estereo)\n",
    "\n",
    "print(f'Número de muestras del audio mono (valores de amplitud): {amplitud_mono}')\n",
    "print(f'Número de muestras del audio estéreo (valores de amplitud): {amplitud_estereo}')"
   ]
  },
  {
   "cell_type": "code",
   "execution_count": null,
   "id": "5bb96662-8dec-4a47-ac4f-cd30f76a8756",
   "metadata": {},
   "outputs": [],
   "source": [
    "# Creación del arrya para el eje X\n",
    "t1 = np.arange(0, amplitud_mono/sample_rate, 1/sample_rate)\n",
    "t2 = np.arange(0, amplitud_estereo/sample_rate, 1/sample_rate)\n",
    "\n",
    "print(t1)\n",
    "print(t2)"
   ]
  },
  {
   "cell_type": "markdown",
   "id": "2a72ef60-78ac-48a5-9414-469b70670c38",
   "metadata": {},
   "source": [
    "### Creación de la gráfica"
   ]
  },
  {
   "cell_type": "code",
   "execution_count": null,
   "id": "73d7187b-65e8-4964-b59d-4a53e75e838e",
   "metadata": {},
   "outputs": [],
   "source": [
    "fig, ax = plt.subplots(2, 1, figsize=(12, 6), sharex=True)\n",
    "\n",
    "# Audio mono\n",
    "ax[0].plot(t1[:50], audio_mono[:50], marker='X')\n",
    "ax[0].set_title(f'Audio mono en el dominio del tiempo muestreado a {sample_rate} Hz')\n",
    "ax[0].set_ylabel('Amplitud')\n",
    "ax[0].grid(True)\n",
    "\n",
    "# Audio estéreo\n",
    "ax[1].plot(t2[:50], audio_estereo[:50], c='tab:red', marker='X')\n",
    "ax[1].set_title(f'Audio estéreo en el dominio del tiempo muestreado a {sample_rate} Hz')\n",
    "ax[1].set_xlabel('Tiempo (s)')\n",
    "ax[1].set_ylabel('Amplitud')\n",
    "ax[1].grid(True)\n",
    "\n",
    "plt.tight_layout()\n",
    "plt.show()"
   ]
  },
  {
   "cell_type": "markdown",
   "id": "d7858d1a-fb46-4e5d-afa5-1ec928848a1f",
   "metadata": {},
   "source": [
    "## Conclusión personal"
   ]
  },
  {
   "cell_type": "markdown",
   "id": "0e62a3cd-684c-42ea-80e4-019812871019",
   "metadata": {},
   "source": [
    "La principal diferencia y que se ve de primeras a través de las gráficas está en el número de canales (2 para estéreo y 1 para mono) y los valores que toma cada uno de ellos obviamente, siendo completamente distintos entre estéreo y mono."
   ]
  },
  {
   "cell_type": "code",
   "execution_count": null,
   "id": "5ba5d0a5-94d2-4183-98df-ad22fc091c1e",
   "metadata": {},
   "outputs": [],
   "source": []
  }
 ],
 "metadata": {
  "kernelspec": {
   "display_name": "Python 3 (ipykernel)",
   "language": "python",
   "name": "python3"
  },
  "language_info": {
   "codemirror_mode": {
    "name": "ipython",
    "version": 3
   },
   "file_extension": ".py",
   "mimetype": "text/x-python",
   "name": "python",
   "nbconvert_exporter": "python",
   "pygments_lexer": "ipython3",
   "version": "3.12.3"
  }
 },
 "nbformat": 4,
 "nbformat_minor": 5
}
