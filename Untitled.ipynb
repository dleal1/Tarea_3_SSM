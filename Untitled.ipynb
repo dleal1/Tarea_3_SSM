{
 "cells": [
  {
   "cell_type": "markdown",
   "id": "17e0d185-a979-4a3f-b767-aae820d9aa64",
   "metadata": {},
   "source": [
    "## Librerias"
   ]
  },
  {
   "cell_type": "code",
   "execution_count": null,
   "id": "e5b46b20-bc70-43f0-9c55-6dbe04bdf0b5",
   "metadata": {},
   "outputs": [],
   "source": [
    "from scipy.io import wavfile\n",
    "import IPython\n",
    "import os\n",
    "import numpy as np\n",
    "import matplotlib.pyplot as plt"
   ]
  },
  {
   "cell_type": "markdown",
   "id": "adc5f3b8-6b24-4ce7-a796-c07988978333",
   "metadata": {},
   "source": [
    "## Varibales globales"
   ]
  },
  {
   "cell_type": "code",
   "execution_count": null,
   "id": "61f168e0-5002-402d-a12f-80b68cc604d8",
   "metadata": {},
   "outputs": [],
   "source": [
    "cwd = os.getcwd()\n",
    "audioInput = os.path.join(cwd, os.path.join('audio', 'examples')) # Ruta para los archivos de entrada\n",
    "audioOutput = os.path.join(cwd, os.path.join('audio', 'output')) # Ruta para los archivos de salida\n",
    "\n",
    "print(f'Ruta de entrada: {audioInput}')\n",
    "print(f'Ruta de salida: {audioOutput}')"
   ]
  },
  {
   "cell_type": "markdown",
   "id": "27123a51-1f78-492b-97d7-84ee8349e15c",
   "metadata": {},
   "source": [
    "## Carga de audio estéreo"
   ]
  },
  {
   "cell_type": "code",
   "execution_count": null,
   "id": "2ebc9b81-febb-411a-b681-c8471c13da3d",
   "metadata": {},
   "outputs": [],
   "source": [
    "audioName = os.path.join(audioInput, 'interstellar.wav') # Audio elegido"
   ]
  },
  {
   "cell_type": "markdown",
   "id": "1abe950f-7dd2-4290-a63d-e03703c3d829",
   "metadata": {},
   "source": [
    "### Mostramos sus características"
   ]
  },
  {
   "cell_type": "code",
   "execution_count": null,
   "id": "7f91521d-41b1-4420-a67f-527d157e656d",
   "metadata": {},
   "outputs": [],
   "source": [
    "sample_rate, audio_estereo = wavfile.read(audioName)\n",
    "\n",
    "print(f'Datos de audio (estéreo)')\n",
    "print(f'Frecuecia de muestreo: {sample_rate/1000} kHz')\n",
    "print(f'Canal 1: {audio_estereo[:5, 0]}')\n",
    "print(f'Canal 2: {audio_estereo[:5, 1]}')\n",
    "print(f'Tamaño: ')\n",
    "!powershell -Command \"Get-Item audio/examples/interstellar.wav | Select-Object Name, @{Name='Size (MB)';Expression={[math]::round($_.Length / 1MB, 2)}}\""
   ]
  },
  {
   "cell_type": "markdown",
   "id": "3550065d-bbb5-45f6-9774-063dc8a7c5a8",
   "metadata": {},
   "source": [
    "### Widget para reproducir el audio"
   ]
  },
  {
   "cell_type": "code",
   "execution_count": null,
   "id": "f69f0c73-cbae-499f-9fab-a47d9d4e454d",
   "metadata": {},
   "outputs": [],
   "source": [
    "IPython.display.Audio(audio_estereo.T, rate=sample_rate)"
   ]
  },
  {
   "cell_type": "markdown",
   "id": "e3d3c456-ad00-466e-8786-2193b4aa386c",
   "metadata": {},
   "source": [
    "## Conversión a mono"
   ]
  },
  {
   "cell_type": "code",
   "execution_count": null,
   "id": "4a3a3afa-dd2f-4b9c-9c5a-f884749a2464",
   "metadata": {},
   "outputs": [],
   "source": [
    "# Convertimos a mono mediante la media por canal (simplificacion).\n",
    "audio_mono = audio_estereo.mean(axis=1)  # Column-wise.\n",
    "# Guardamos el audio mono en un fichero .wav\n",
    "wavfile.write(\n",
    "    filename = os.path.join(audioOutput, 'audio_mono.wav'),\n",
    "    rate = sample_rate,\n",
    "    data = audio_mono\n",
    ")\n",
    "\n",
    "print('Nuevos datos de audio (mono):')\n",
    "print(f'- Nuevo tamaño: {audio_mono.shape}')\n",
    "print(f'- Canal único:  {audio_mono[:5]}')\n",
    "print(f'Tamaño: ')\n",
    "!powershell -Command \"Get-Item audio/output/audio_mono.wav | Select-Object Name, @{Name='Size (MB)';Expression={[math]::round($_.Length / 1MB, 2)}}\"\n"
   ]
  },
  {
   "cell_type": "code",
   "execution_count": null,
   "id": "8f31f270-2496-47e7-b415-05a4e589e2cc",
   "metadata": {},
   "outputs": [],
   "source": []
  },
  {
   "cell_type": "markdown",
   "id": "a3aa2651-6d74-4660-88aa-d799a6b09e74",
   "metadata": {},
   "source": [
    "### Widget para reproducir el audio"
   ]
  },
  {
   "cell_type": "code",
   "execution_count": null,
   "id": "d33dc661-b35c-4021-8af9-ec60a611307c",
   "metadata": {},
   "outputs": [],
   "source": [
    "IPython.display.Audio(audio_mono.T, rate=sample_rate)"
   ]
  },
  {
   "cell_type": "markdown",
   "id": "e3faff46-1094-4f38-8c4a-8cace6479ac6",
   "metadata": {},
   "source": [
    "## Gráficas en el dominio del tiempo"
   ]
  },
  {
   "cell_type": "code",
   "execution_count": null,
   "id": "0514302c-0cc1-49d5-9297-8e3ae1106396",
   "metadata": {},
   "outputs": [],
   "source": [
    "amplitud_mono = len(audio_mono)\n",
    "amplitud_estereo = len(audio_estereo)\n",
    "\n",
    "print(f'Número de muestras del audio mono (valores de amplitud): {amplitud_mono}')\n",
    "print(f'Número de muestras del audio estéreo (valores de amplitud): {amplitud_estereo}')"
   ]
  },
  {
   "cell_type": "code",
   "execution_count": null,
   "id": "5bb96662-8dec-4a47-ac4f-cd30f76a8756",
   "metadata": {},
   "outputs": [],
   "source": [
    "# Creación del arrya para el eje X\n",
    "t1 = np.arange(0, amplitud_mono/sample_rate, 1/sample_rate)\n",
    "t2 = np.arange(0, amplitud_estereo/sample_rate, 1/sample_rate)\n",
    "\n",
    "print(t1)\n",
    "print(t2)"
   ]
  },
  {
   "cell_type": "markdown",
   "id": "2a72ef60-78ac-48a5-9414-469b70670c38",
   "metadata": {},
   "source": [
    "### Creación de la gráfica"
   ]
  },
  {
   "cell_type": "code",
   "execution_count": null,
   "id": "73d7187b-65e8-4964-b59d-4a53e75e838e",
   "metadata": {},
   "outputs": [],
   "source": [
    "fig, ax = plt.subplots(2, 1, figsize=(12, 6), sharex=True)\n",
    "\n",
    "# Audio mono\n",
    "ax[0].plot(t1[:50], audio_mono[:50], marker='X')\n",
    "ax[0].set_title(f'Audio mono en el dominio del tiempo muestreado a {sample_rate} Hz')\n",
    "ax[0].set_ylabel('Amplitud')\n",
    "ax[0].grid(True)\n",
    "\n",
    "# Audio estéreo\n",
    "ax[1].plot(t2[:50], audio_estereo[:50], c='tab:red', marker='X')\n",
    "ax[1].set_title(f'Audio estéreo en el dominio del tiempo muestreado a {sample_rate} Hz')\n",
    "ax[1].set_xlabel('Tiempo (s)')\n",
    "ax[1].set_ylabel('Amplitud')\n",
    "ax[1].grid(True)\n",
    "\n",
    "plt.tight_layout()\n",
    "plt.show()"
   ]
  },
  {
   "cell_type": "markdown",
   "id": "d7858d1a-fb46-4e5d-afa5-1ec928848a1f",
   "metadata": {},
   "source": [
    "## Conclusión personal"
   ]
  },
  {
   "cell_type": "markdown",
   "id": "0e62a3cd-684c-42ea-80e4-019812871019",
   "metadata": {},
   "source": [
    "La principal diferencia y que se ve de primeras a través de las gráficas está en el número de canales (2 para estéreo y 1 para mono) y los valores que toma cada uno de ellos obviamente, siendo completamente distintos entre estéreo y mono."
   ]
  },
  {
   "cell_type": "markdown",
   "id": "6ee5432d-2f10-4f7c-acde-2542cd256e18",
   "metadata": {},
   "source": [
    "# TAREA 4"
   ]
  },
  {
   "cell_type": "markdown",
   "id": "581ccfee-70a8-4c67-a60b-8b28442bb65d",
   "metadata": {},
   "source": [
    "## Definiciones"
   ]
  },
  {
   "cell_type": "markdown",
   "id": "8d09debf-2c5c-4b53-8618-bc63c06e51e4",
   "metadata": {},
   "source": [
    "### Frecuecia de muestreo"
   ]
  },
  {
   "cell_type": "markdown",
   "id": "9f524f46-a581-4bfa-91a7-77e19bb70be8",
   "metadata": {},
   "source": [
    "Número de muestras que se toman por unidad de tiempo de una señal analógica para transformarla en digital."
   ]
  },
  {
   "cell_type": "markdown",
   "id": "f61611ff-e32d-4a69-9948-2230e568d53f",
   "metadata": {},
   "source": [
    "### Aliasing"
   ]
  },
  {
   "cell_type": "markdown",
   "id": "462aa320-ff48-4c18-a2d8-4729698cb769",
   "metadata": {},
   "source": [
    "Efecto que ocurre cuando no se pueden distinguir dos señales digitales continuas debido a una frecuenca de muestreo muy baja."
   ]
  },
  {
   "cell_type": "markdown",
   "id": "f39a2692-68c7-4755-a43d-d1d5b3f01809",
   "metadata": {},
   "source": [
    "### Profundidad de bits"
   ]
  },
  {
   "cell_type": "markdown",
   "id": "b67e3fe9-e69f-4881-8c69-a25639e0bc86",
   "metadata": {},
   "source": [
    "Es el número de bits utilizados para mostrar una señal de audio."
   ]
  },
  {
   "cell_type": "markdown",
   "id": "f1f3d5ef-d4e4-4c2c-b6a3-f9a9d8fa8a5b",
   "metadata": {},
   "source": [
    "### Ancho de banda"
   ]
  },
  {
   "cell_type": "markdown",
   "id": "1416eb3c-4491-4c11-85f5-04dea3659771",
   "metadata": {},
   "source": [
    "Es la longitud de la extensión de frecuencias en la que se concentra la mayor potencia de la señal."
   ]
  },
  {
   "cell_type": "markdown",
   "id": "42d28b91-b7e7-4d9c-a65a-198f7fb903fd",
   "metadata": {},
   "source": [
    "### Tasa de bits"
   ]
  },
  {
   "cell_type": "markdown",
   "id": "7c5905d1-463c-4aa1-8f89-25ca76497ed7",
   "metadata": {},
   "source": [
    "Es el número de bits que se transmiten por unidad de tiempo a través de un sistema de transmisión digital."
   ]
  },
  {
   "cell_type": "markdown",
   "id": "2d395063-2e10-4dd4-aaa6-5e79c797855e",
   "metadata": {},
   "source": [
    "## Transformada de Fouries para audio mono"
   ]
  },
  {
   "cell_type": "code",
   "execution_count": null,
   "id": "cfa594ee-533d-4db4-a45e-edf1d6d00f71",
   "metadata": {},
   "outputs": [],
   "source": [
    "n = len(audio_mono) # Longitud del array de datos\n",
    "Fs = sample_rate # Frecuencia de muestreo\n",
    "\n",
    "ch_Fourier = np.fft.fft(audio_mono) # Cálculo de la Transformada Rápida de Fourier (fft)\n",
    "\n",
    "abs_ch_Fourier = np.absolute(ch_Fourier[:n//2]) # Sólo frecuencias por debajo de Fs/2\n",
    "\n",
    "# Pintamos la gráfica\n",
    "plt.plot(np.linspace(0, Fs/2, n//2), abs_ch_Fourier)\n",
    "plt.ylabel('Amplitud', labelpad=10)\n",
    "plt.xlabel('$f$ (Hz)', labelpad=10)\n",
    "plt.show()"
   ]
  },
  {
   "cell_type": "markdown",
   "id": "99423898-1be9-4a97-988e-0d37bc353fb0",
   "metadata": {},
   "source": [
    "## Energía del espectograma y frecuencia de corte"
   ]
  },
  {
   "cell_type": "code",
   "execution_count": null,
   "id": "e5c485f2-615d-4feb-8ac5-26c709fd7913",
   "metadata": {},
   "outputs": [],
   "source": [
    "eps = [1e-5, 0.02, 0.063] # Definimos diferentes epsilos para pruebas"
   ]
  },
  {
   "cell_type": "code",
   "execution_count": null,
   "id": "bb4bbc53-8ac2-4b48-8803-ce98491d419c",
   "metadata": {},
   "outputs": [],
   "source": [
    "print(f'Epsilon: {eps[0]}')\n",
    "\n",
    "thr_spc_energy = (1 - eps[0]) * np.sum(abs_ch_Fourier) # Corte para la energía\n",
    "spec_energy = np.cumsum(abs_ch_Fourier) # Energía del espectro\n",
    "\n",
    "mask = thr_spc_energy < spec_energy # (Máscara) Eliminamos las frecuencias superiores al corte\n",
    "f0 = (len(mask) - np.sum(mask)) * (Fs/2) / (n//2) # Frecuencia de corte del espectro\n",
    "\n",
    "# Pintamos la gráfica\n",
    "plt.axvline(f0, color='r')\n",
    "plt.plot(np.linspace(0, Fs/2, n//2), abs_ch_Fourier)\n",
    "plt.ylabel('Amplitud')\n",
    "plt.xlabel('$f$ (Hz)')\n",
    "plt.show()"
   ]
  },
  {
   "cell_type": "markdown",
   "id": "c383b45f-0d9e-4dab-9276-e36ce02bd63a",
   "metadata": {},
   "source": [
    "### Probamos con otro epsilon"
   ]
  },
  {
   "cell_type": "code",
   "execution_count": null,
   "id": "7abf5b00-599e-4092-881d-ec7221c38569",
   "metadata": {},
   "outputs": [],
   "source": [
    "print(f'Epsilon: {eps[1]}')\n",
    "\n",
    "thr_spc_energy = (1 - eps[1]) * np.sum(abs_ch_Fourier) # Corte para la energía\n",
    "spec_energy = np.cumsum(abs_ch_Fourier) # Energía del espectro\n",
    "\n",
    "mask = thr_spc_energy < spec_energy # (Máscara) Eliminamos las frecuencias superiores al corte\n",
    "f0 = (len(mask) - np.sum(mask)) * (Fs/2) / (n//2) # Frecuencia de corte del espectro\n",
    "\n",
    "# Pintamos la gráfica\n",
    "plt.axvline(f0, color='r')\n",
    "plt.plot(np.linspace(0, Fs/2, n//2), abs_ch_Fourier)\n",
    "plt.ylabel('Amplitud')\n",
    "plt.xlabel('$f$ (Hz)')\n",
    "plt.show()"
   ]
  },
  {
   "cell_type": "markdown",
   "id": "da01adec-1d44-440b-927f-3d06e6c024d7",
   "metadata": {},
   "source": [
    "### Probamos con el último epsilon definido"
   ]
  },
  {
   "cell_type": "code",
   "execution_count": null,
   "id": "db75958c-7c85-434f-86dc-2bcd2a012bac",
   "metadata": {},
   "outputs": [],
   "source": [
    "print(f'Epsilon: {eps[2]}')\n",
    "\n",
    "thr_spc_energy = (1 - eps[2]) * np.sum(abs_ch_Fourier) # Corte para la energía\n",
    "spec_energy = np.cumsum(abs_ch_Fourier) # Energía del espectro\n",
    "\n",
    "mask = thr_spc_energy < spec_energy # (Máscara) Eliminamos las frecuencias superiores al corte\n",
    "f0 = (len(mask) - np.sum(mask)) * (Fs/2) / (n//2) # Frecuencia de corte del espectro\n",
    "\n",
    "# Pintamos la gráfica\n",
    "plt.axvline(f0, color='r')\n",
    "plt.plot(np.linspace(0, Fs/2, n//2), abs_ch_Fourier)\n",
    "plt.ylabel('Amplitud')\n",
    "plt.xlabel('$f$ (Hz)')\n",
    "plt.show()"
   ]
  },
  {
   "cell_type": "markdown",
   "id": "c1d6eecf-7d54-4e7b-af73-4fc508066da1",
   "metadata": {},
   "source": [
    "Observamos que a medida que aumenta en epsilon, la frecuencia de corte disminuye."
   ]
  },
  {
   "cell_type": "markdown",
   "id": "00c3ec29-b490-4df8-a6a6-6586df5ff43e",
   "metadata": {},
   "source": [
    "## Downsampling"
   ]
  },
  {
   "cell_type": "code",
   "execution_count": null,
   "id": "8aa9ad3a-5d19-43e6-91b3-b80dcac65a1d",
   "metadata": {},
   "outputs": [],
   "source": [
    "D = int(Fs/f0) # Factor D\n",
    "new_audio_mono = audio_mono[::D]\n",
    "\n",
    "# Escribimos los datos en un archivo .wav\n",
    "wavfile.write(\n",
    "    filename = os.path.join(audioOutput, \"mono_downsampling.wav\"),\n",
    "    rate = int(Fs/D),\n",
    "    data = new_audio_mono\n",
    ")\n",
    "\n",
    "# Cargamos el nuevo audio y reproducimos para ver la diferencia\n",
    "audio_ds_rate, audio_ds_data = wavfile.read(filename = os.path.join(audioOutput, 'mono_downsampling.wav'))\n",
    "IPython.display.Audio(audio_ds_data, rate = audio_ds_rate)"
   ]
  },
  {
   "cell_type": "markdown",
   "id": "11be1f39-4a7b-413a-9ff1-888dff3b82b7",
   "metadata": {},
   "source": [
    "## Espectogramas"
   ]
  },
  {
   "cell_type": "code",
   "execution_count": null,
   "id": "16eef63d-97d0-4ad6-942c-273b57589a3a",
   "metadata": {},
   "outputs": [],
   "source": [
    "fig, ax = plt.subplots(2, 1, figsize=(12, 8), sharex=True)\n",
    "\n",
    "Pxx, freqs, bins, im = ax[0].specgram(audio_mono, NFFT=1024, Fs=sample_rate, noverlap=512)\n",
    "ax[0].set_title('Espectograma del audio mono original')\n",
    "ax[0].set_ylabel('Frecuencia (Hz)')\n",
    "ax[0].grid(True)\n",
    "\n",
    "Pxx, freqs, bins, im = ax[1].specgram(new_audio_mono, NFFT=1024, Fs=audio_ds_rate, noverlap=512)\n",
    "ax[1].set_title('Espectrograma del audio mono comprimido')\n",
    "ax[1].set_xlabel('Tiempo (s)')\n",
    "ax[1].set_ylabel('Frecuencia (Hz)')\n",
    "ax[1].grid(True)\n",
    "\n",
    "plt.tight_layout()\n",
    "plt.show()"
   ]
  },
  {
   "cell_type": "markdown",
   "id": "dbb95bef-c6df-4ad3-95fc-b73730d46eaa",
   "metadata": {},
   "source": [
    "La diferencia está en las frecuencias entre una muestra y otra, mientras que en la original las frecuencias son mucho más altas, en la muestra comprimida son mucho más bajas debido al downsampling calculado con la frecuencia de corte"
   ]
  },
  {
   "cell_type": "markdown",
   "id": "70ca913b-56f9-4df8-ad33-babdd5fba93f",
   "metadata": {},
   "source": [
    "### Tamaño de ambos archivos"
   ]
  },
  {
   "cell_type": "code",
   "execution_count": null,
   "id": "12de4b7d-5c58-41f0-af5b-2b0c6a89cec6",
   "metadata": {},
   "outputs": [],
   "source": [
    "!powershell -Command \"Get-Item audio/output/audio_mono.wav | Select-Object Name, @{Name='Size (MB)';Expression={[math]::round($_.Length / 1MB, 2)}}\"\n",
    "!powershell -Command \"Get-Item audio/output/mono_downsampling.wav | Select-Object Name, @{Name='Size (MB)';Expression={[math]::round($_.Length / 1MB, 2)}}\""
   ]
  },
  {
   "cell_type": "markdown",
   "id": "26f933df-c9ce-49da-8874-2267cc80ccc8",
   "metadata": {},
   "source": [
    "## Widgets para reproducir ambos archivos"
   ]
  },
  {
   "cell_type": "code",
   "execution_count": null,
   "id": "5d934261-8495-49ca-a0be-5179e92d09d1",
   "metadata": {},
   "outputs": [],
   "source": [
    "# Original\n",
    "IPython.display.Audio(audio_mono, rate=sample_rate)\n"
   ]
  },
  {
   "cell_type": "code",
   "execution_count": null,
   "id": "6aca76c9-c281-445e-bcc7-9bd02677ae5b",
   "metadata": {},
   "outputs": [],
   "source": [
    "# Comprimido\n",
    "IPython.display.Audio(new_audio_mono, rate=audio_ds_rate)"
   ]
  },
  {
   "cell_type": "code",
   "execution_count": null,
   "id": "259ab645-9cf4-4d7c-be71-735c9523db20",
   "metadata": {},
   "outputs": [],
   "source": []
  }
 ],
 "metadata": {
  "kernelspec": {
   "display_name": "Python 3 (ipykernel)",
   "language": "python",
   "name": "python3"
  },
  "language_info": {
   "codemirror_mode": {
    "name": "ipython",
    "version": 3
   },
   "file_extension": ".py",
   "mimetype": "text/x-python",
   "name": "python",
   "nbconvert_exporter": "python",
   "pygments_lexer": "ipython3",
   "version": "3.12.3"
  }
 },
 "nbformat": 4,
 "nbformat_minor": 5
}
